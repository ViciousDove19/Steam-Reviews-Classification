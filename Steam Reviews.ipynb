{
 "cells": [
  {
   "cell_type": "code",
   "execution_count": 1,
   "metadata": {},
   "outputs": [],
   "source": [
    "import numpy as np\n",
    "import pandas as pd\n",
    "import matplotlib.pyplot as plt"
   ]
  },
  {
   "cell_type": "code",
   "execution_count": 50,
   "metadata": {},
   "outputs": [],
   "source": [
    "from collections import Counter\n",
    "from collections import defaultdict"
   ]
  },
  {
   "cell_type": "code",
   "execution_count": 93,
   "metadata": {},
   "outputs": [],
   "source": [
    "from nltk.corpus import stopwords\n",
    "stop = set(stopwords.words('english'))\n",
    "\n",
    "import re\n",
    "import string"
   ]
  },
  {
   "cell_type": "code",
   "execution_count": 60,
   "metadata": {},
   "outputs": [],
   "source": [
    "from sklearn.feature_extraction.text import CountVectorizer"
   ]
  },
  {
   "cell_type": "code",
   "execution_count": 105,
   "metadata": {},
   "outputs": [],
   "source": [
    "from tqdm import tqdm\n",
    "from nltk.tokenize import word_tokenize\n",
    "from nltk import punkt"
   ]
  },
  {
   "cell_type": "code",
   "execution_count": 99,
   "metadata": {},
   "outputs": [
    {
     "name": "stderr",
     "output_type": "stream",
     "text": [
      "Using TensorFlow backend.\n"
     ]
    }
   ],
   "source": [
    "from keras.preprocessing.text import Tokenizer\n",
    "from keras.preprocessing.sequence import pad_sequences\n",
    "from tqdm import tqdm\n",
    "from keras.models import Sequential\n",
    "from keras.layers import Embedding,LSTM,Dense,SpatialDropout1D\n",
    "from keras.initializers import Constant\n",
    "from sklearn.model_selection import train_test_split\n",
    "from keras.optimizers import Adam"
   ]
  },
  {
   "cell_type": "code",
   "execution_count": 3,
   "metadata": {},
   "outputs": [],
   "source": [
    "train = pd.read_csv('train.csv')\n",
    "overview = pd.read_csv('game_overview.csv')\n",
    "test = pd.read_csv('test.csv')"
   ]
  },
  {
   "cell_type": "code",
   "execution_count": 24,
   "metadata": {},
   "outputs": [],
   "source": [
    "length_review_train = train[\"user_review\"].str.len()\n",
    "length_review_test = test[\"user_review\"].str.len()"
   ]
  },
  {
   "cell_type": "code",
   "execution_count": 28,
   "metadata": {},
   "outputs": [
    {
     "data": {
      "image/png": "[encoded data removed]",
      "text/plain": [
       "<Figure size 432x288 with 1 Axes>"
      ]
     },
     "metadata": {
      "needs_background": "light"
     },
     "output_type": "display_data"
    }
   ],
   "source": [
    "plt.hist(length_review_train,bins=10,label='training reviews length')\n",
    "plt.hist(length_review_test,bins=10,label='testing reviews lentgth')\n",
    "plt.legend()\n",
    "plt.show()"
   ]
  },
  {
   "cell_type": "code",
   "execution_count": 77,
   "metadata": {},
   "outputs": [
    {
     "data": {
      "text/html": [
       "<div>\n",
       "<style scoped>\n",
       "    .dataframe tbody tr th:only-of-type {\n",
       "        vertical-align: middle;\n",
       "    }\n",
       "\n",
       "    .dataframe tbody tr th {\n",
       "        vertical-align: top;\n",
       "    }\n",
       "\n",
       "    .dataframe thead th {\n",
       "        text-align: right;\n",
       "    }\n",
       "</style>\n",
       "<table border=\"1\" class=\"dataframe\">\n",
       "  <thead>\n",
       "    <tr style=\"text-align: right;\">\n",
       "      <th></th>\n",
       "      <th>review_id</th>\n",
       "      <th>title</th>\n",
       "      <th>year</th>\n",
       "      <th>user_review</th>\n",
       "      <th>user_suggestion</th>\n",
       "    </tr>\n",
       "  </thead>\n",
       "  <tbody>\n",
       "    <tr>\n",
       "      <th>0</th>\n",
       "      <td>1</td>\n",
       "      <td>Spooky's Jump Scare Mansion</td>\n",
       "      <td>2016.0</td>\n",
       "      <td>I'm scared and hearing creepy voices.  So I'll...</td>\n",
       "      <td>1</td>\n",
       "    </tr>\n",
       "    <tr>\n",
       "      <th>1</th>\n",
       "      <td>2</td>\n",
       "      <td>Spooky's Jump Scare Mansion</td>\n",
       "      <td>2016.0</td>\n",
       "      <td>Best game, more better than Sam Pepper's YouTu...</td>\n",
       "      <td>1</td>\n",
       "    </tr>\n",
       "    <tr>\n",
       "      <th>2</th>\n",
       "      <td>3</td>\n",
       "      <td>Spooky's Jump Scare Mansion</td>\n",
       "      <td>2016.0</td>\n",
       "      <td>A littly iffy on the controls, but once you kn...</td>\n",
       "      <td>1</td>\n",
       "    </tr>\n",
       "  </tbody>\n",
       "</table>\n",
       "</div>"
      ],
      "text/plain": [
       "   review_id                        title    year  \\\n",
       "0          1  Spooky's Jump Scare Mansion  2016.0   \n",
       "1          2  Spooky's Jump Scare Mansion  2016.0   \n",
       "2          3  Spooky's Jump Scare Mansion  2016.0   \n",
       "\n",
       "                                         user_review  user_suggestion  \n",
       "0  I'm scared and hearing creepy voices.  So I'll...                1  \n",
       "1  Best game, more better than Sam Pepper's YouTu...                1  \n",
       "2  A littly iffy on the controls, but once you kn...                1  "
      ]
     },
     "execution_count": 77,
     "metadata": {},
     "output_type": "execute_result"
    }
   ],
   "source": [
    "train.head(3)"
   ]
  },
  {
   "cell_type": "code",
   "execution_count": 76,
   "metadata": {},
   "outputs": [
    {
     "data": {
      "text/html": [
       "<div>\n",
       "<style scoped>\n",
       "    .dataframe tbody tr th:only-of-type {\n",
       "        vertical-align: middle;\n",
       "    }\n",
       "\n",
       "    .dataframe tbody tr th {\n",
       "        vertical-align: top;\n",
       "    }\n",
       "\n",
       "    .dataframe thead th {\n",
       "        text-align: right;\n",
       "    }\n",
       "</style>\n",
       "<table border=\"1\" class=\"dataframe\">\n",
       "  <thead>\n",
       "    <tr style=\"text-align: right;\">\n",
       "      <th></th>\n",
       "      <th>review_id</th>\n",
       "      <th>title</th>\n",
       "      <th>year</th>\n",
       "      <th>user_review</th>\n",
       "      <th>user_suggestion</th>\n",
       "    </tr>\n",
       "  </thead>\n",
       "  <tbody>\n",
       "    <tr>\n",
       "      <th>0</th>\n",
       "      <td>1</td>\n",
       "      <td>Spooky's Jump Scare Mansion</td>\n",
       "      <td>2016.0</td>\n",
       "      <td>I'm scared and hearing creepy voices.  So I'll...</td>\n",
       "      <td>1</td>\n",
       "    </tr>\n",
       "    <tr>\n",
       "      <th>1</th>\n",
       "      <td>2</td>\n",
       "      <td>Spooky's Jump Scare Mansion</td>\n",
       "      <td>2016.0</td>\n",
       "      <td>Best game, more better than Sam Pepper's YouTu...</td>\n",
       "      <td>1</td>\n",
       "    </tr>\n",
       "    <tr>\n",
       "      <th>2</th>\n",
       "      <td>3</td>\n",
       "      <td>Spooky's Jump Scare Mansion</td>\n",
       "      <td>2016.0</td>\n",
       "      <td>A littly iffy on the controls, but once you kn...</td>\n",
       "      <td>1</td>\n",
       "    </tr>\n",
       "    <tr>\n",
       "      <th>3</th>\n",
       "      <td>4</td>\n",
       "      <td>Spooky's Jump Scare Mansion</td>\n",
       "      <td>2015.0</td>\n",
       "      <td>Great game, fun and colorful and all that.A si...</td>\n",
       "      <td>1</td>\n",
       "    </tr>\n",
       "    <tr>\n",
       "      <th>4</th>\n",
       "      <td>5</td>\n",
       "      <td>Spooky's Jump Scare Mansion</td>\n",
       "      <td>2015.0</td>\n",
       "      <td>Not many games have the cute tag right next to...</td>\n",
       "      <td>1</td>\n",
       "    </tr>\n",
       "    <tr>\n",
       "      <th>5</th>\n",
       "      <td>6</td>\n",
       "      <td>Spooky's Jump Scare Mansion</td>\n",
       "      <td>2015.0</td>\n",
       "      <td>Early Access ReviewIt's pretty cute at first, ...</td>\n",
       "      <td>1</td>\n",
       "    </tr>\n",
       "    <tr>\n",
       "      <th>6</th>\n",
       "      <td>7</td>\n",
       "      <td>Spooky's Jump Scare Mansion</td>\n",
       "      <td>2017.0</td>\n",
       "      <td>Great game. it's a cute little horror game tha...</td>\n",
       "      <td>1</td>\n",
       "    </tr>\n",
       "    <tr>\n",
       "      <th>7</th>\n",
       "      <td>8</td>\n",
       "      <td>Spooky's Jump Scare Mansion</td>\n",
       "      <td>2015.0</td>\n",
       "      <td>Spooky's Jump Scare Mansion is a Free Retro ma...</td>\n",
       "      <td>1</td>\n",
       "    </tr>\n",
       "    <tr>\n",
       "      <th>8</th>\n",
       "      <td>9</td>\n",
       "      <td>Spooky's Jump Scare Mansion</td>\n",
       "      <td>2015.0</td>\n",
       "      <td>Somewhere between light hearted, happy parody ...</td>\n",
       "      <td>0</td>\n",
       "    </tr>\n",
       "    <tr>\n",
       "      <th>9</th>\n",
       "      <td>10</td>\n",
       "      <td>Spooky's Jump Scare Mansion</td>\n",
       "      <td>2015.0</td>\n",
       "      <td>This game with its cute little out of the wall...</td>\n",
       "      <td>1</td>\n",
       "    </tr>\n",
       "    <tr>\n",
       "      <th>10</th>\n",
       "      <td>11</td>\n",
       "      <td>Spooky's Jump Scare Mansion</td>\n",
       "      <td>2015.0</td>\n",
       "      <td>Early Access ReviewI thought this game would b...</td>\n",
       "      <td>1</td>\n",
       "    </tr>\n",
       "    <tr>\n",
       "      <th>11</th>\n",
       "      <td>12</td>\n",
       "      <td>Spooky's Jump Scare Mansion</td>\n",
       "      <td>2015.0</td>\n",
       "      <td>Early Access ReviewGreen ghosty goo thing chas...</td>\n",
       "      <td>1</td>\n",
       "    </tr>\n",
       "    <tr>\n",
       "      <th>12</th>\n",
       "      <td>13</td>\n",
       "      <td>Spooky's Jump Scare Mansion</td>\n",
       "      <td>2015.0</td>\n",
       "      <td>Early Access ReviewRooms 1-20 were cute and ad...</td>\n",
       "      <td>1</td>\n",
       "    </tr>\n",
       "    <tr>\n",
       "      <th>13</th>\n",
       "      <td>14</td>\n",
       "      <td>Spooky's Jump Scare Mansion</td>\n",
       "      <td>2015.0</td>\n",
       "      <td>Early Access ReviewGreat game.  It always has ...</td>\n",
       "      <td>1</td>\n",
       "    </tr>\n",
       "    <tr>\n",
       "      <th>14</th>\n",
       "      <td>15</td>\n",
       "      <td>Spooky's Jump Scare Mansion</td>\n",
       "      <td>2015.0</td>\n",
       "      <td>The name says it all, but don't get fooled by ...</td>\n",
       "      <td>1</td>\n",
       "    </tr>\n",
       "    <tr>\n",
       "      <th>15</th>\n",
       "      <td>16</td>\n",
       "      <td>Spooky's Jump Scare Mansion</td>\n",
       "      <td>2016.0</td>\n",
       "      <td>Never would have thought something so adorably...</td>\n",
       "      <td>1</td>\n",
       "    </tr>\n",
       "    <tr>\n",
       "      <th>16</th>\n",
       "      <td>17</td>\n",
       "      <td>Spooky's Jump Scare Mansion</td>\n",
       "      <td>2015.0</td>\n",
       "      <td>First, get hugged by cardboard cut outs, then ...</td>\n",
       "      <td>1</td>\n",
       "    </tr>\n",
       "    <tr>\n",
       "      <th>17</th>\n",
       "      <td>18</td>\n",
       "      <td>Spooky's Jump Scare Mansion</td>\n",
       "      <td>2015.0</td>\n",
       "      <td>It's exactly what you think it is. Progress th...</td>\n",
       "      <td>1</td>\n",
       "    </tr>\n",
       "    <tr>\n",
       "      <th>18</th>\n",
       "      <td>19</td>\n",
       "      <td>Spooky's Jump Scare Mansion</td>\n",
       "      <td>2015.0</td>\n",
       "      <td>This game is awesome! It may seem cute and not...</td>\n",
       "      <td>1</td>\n",
       "    </tr>\n",
       "    <tr>\n",
       "      <th>19</th>\n",
       "      <td>20</td>\n",
       "      <td>Spooky's Jump Scare Mansion</td>\n",
       "      <td>2015.0</td>\n",
       "      <td>Just played this game for about an hour and it...</td>\n",
       "      <td>1</td>\n",
       "    </tr>\n",
       "    <tr>\n",
       "      <th>20</th>\n",
       "      <td>21</td>\n",
       "      <td>Spooky's Jump Scare Mansion</td>\n",
       "      <td>2015.0</td>\n",
       "      <td>This game may seem cute, adorble and innocent ...</td>\n",
       "      <td>1</td>\n",
       "    </tr>\n",
       "    <tr>\n",
       "      <th>21</th>\n",
       "      <td>22</td>\n",
       "      <td>Spooky's Jump Scare Mansion</td>\n",
       "      <td>2016.0</td>\n",
       "      <td>Those puppets, man! They freak me out! Can't g...</td>\n",
       "      <td>1</td>\n",
       "    </tr>\n",
       "    <tr>\n",
       "      <th>22</th>\n",
       "      <td>23</td>\n",
       "      <td>Spooky's Jump Scare Mansion</td>\n",
       "      <td>2015.0</td>\n",
       "      <td>Early Access ReviewThis Game is a bit simple b...</td>\n",
       "      <td>1</td>\n",
       "    </tr>\n",
       "    <tr>\n",
       "      <th>23</th>\n",
       "      <td>24</td>\n",
       "      <td>Spooky's Jump Scare Mansion</td>\n",
       "      <td>2015.0</td>\n",
       "      <td>One of the best horror games imo. It's free, i...</td>\n",
       "      <td>1</td>\n",
       "    </tr>\n",
       "    <tr>\n",
       "      <th>24</th>\n",
       "      <td>25</td>\n",
       "      <td>Spooky's Jump Scare Mansion</td>\n",
       "      <td>2015.0</td>\n",
       "      <td>Cute and Horror do not really mesh well in so ...</td>\n",
       "      <td>1</td>\n",
       "    </tr>\n",
       "    <tr>\n",
       "      <th>25</th>\n",
       "      <td>26</td>\n",
       "      <td>Spooky's Jump Scare Mansion</td>\n",
       "      <td>2015.0</td>\n",
       "      <td>great game for your kids!when your childerent ...</td>\n",
       "      <td>1</td>\n",
       "    </tr>\n",
       "    <tr>\n",
       "      <th>26</th>\n",
       "      <td>27</td>\n",
       "      <td>Spooky's Jump Scare Mansion</td>\n",
       "      <td>2015.0</td>\n",
       "      <td>Early Access ReviewAn interesting and quirky e...</td>\n",
       "      <td>1</td>\n",
       "    </tr>\n",
       "    <tr>\n",
       "      <th>27</th>\n",
       "      <td>28</td>\n",
       "      <td>Spooky's Jump Scare Mansion</td>\n",
       "      <td>2015.0</td>\n",
       "      <td>Starts off rather harmless and cute, and very ...</td>\n",
       "      <td>1</td>\n",
       "    </tr>\n",
       "    <tr>\n",
       "      <th>28</th>\n",
       "      <td>29</td>\n",
       "      <td>Spooky's Jump Scare Mansion</td>\n",
       "      <td>2015.0</td>\n",
       "      <td>Good, but you need much more than the minimum ...</td>\n",
       "      <td>1</td>\n",
       "    </tr>\n",
       "    <tr>\n",
       "      <th>29</th>\n",
       "      <td>30</td>\n",
       "      <td>Spooky's Jump Scare Mansion</td>\n",
       "      <td>2016.0</td>\n",
       "      <td>At first everything seems alright, just gotta ...</td>\n",
       "      <td>1</td>\n",
       "    </tr>\n",
       "    <tr>\n",
       "      <th>...</th>\n",
       "      <td>...</td>\n",
       "      <td>...</td>\n",
       "      <td>...</td>\n",
       "      <td>...</td>\n",
       "      <td>...</td>\n",
       "    </tr>\n",
       "    <tr>\n",
       "      <th>17464</th>\n",
       "      <td>25510</td>\n",
       "      <td>EverQuest II</td>\n",
       "      <td>2014.0</td>\n",
       "      <td>I played this at launch and many times off and...</td>\n",
       "      <td>1</td>\n",
       "    </tr>\n",
       "    <tr>\n",
       "      <th>17465</th>\n",
       "      <td>25511</td>\n",
       "      <td>EverQuest II</td>\n",
       "      <td>2014.0</td>\n",
       "      <td>The Everquest Franchise has always been a grea...</td>\n",
       "      <td>1</td>\n",
       "    </tr>\n",
       "    <tr>\n",
       "      <th>17466</th>\n",
       "      <td>25512</td>\n",
       "      <td>EverQuest II</td>\n",
       "      <td>2012.0</td>\n",
       "      <td>I've put quite a bit of time into this game ov...</td>\n",
       "      <td>1</td>\n",
       "    </tr>\n",
       "    <tr>\n",
       "      <th>17467</th>\n",
       "      <td>25513</td>\n",
       "      <td>EverQuest II</td>\n",
       "      <td>2011.0</td>\n",
       "      <td>An acceptable way to spend your time if you're...</td>\n",
       "      <td>1</td>\n",
       "    </tr>\n",
       "    <tr>\n",
       "      <th>17468</th>\n",
       "      <td>25514</td>\n",
       "      <td>EverQuest II</td>\n",
       "      <td>2013.0</td>\n",
       "      <td>Satisfying combat, fun progression, best in in...</td>\n",
       "      <td>1</td>\n",
       "    </tr>\n",
       "    <tr>\n",
       "      <th>17469</th>\n",
       "      <td>25515</td>\n",
       "      <td>EverQuest II</td>\n",
       "      <td>2013.0</td>\n",
       "      <td>Truely endless adventure, epic battles, sweet ...</td>\n",
       "      <td>1</td>\n",
       "    </tr>\n",
       "    <tr>\n",
       "      <th>17470</th>\n",
       "      <td>25516</td>\n",
       "      <td>EverQuest II</td>\n",
       "      <td>2016.0</td>\n",
       "      <td>I enjoy this game, but I do have an issue with...</td>\n",
       "      <td>1</td>\n",
       "    </tr>\n",
       "    <tr>\n",
       "      <th>17471</th>\n",
       "      <td>25517</td>\n",
       "      <td>EverQuest II</td>\n",
       "      <td>2014.0</td>\n",
       "      <td>The good World of Warcraft.  better than most ...</td>\n",
       "      <td>1</td>\n",
       "    </tr>\n",
       "    <tr>\n",
       "      <th>17472</th>\n",
       "      <td>25518</td>\n",
       "      <td>EverQuest II</td>\n",
       "      <td>2012.0</td>\n",
       "      <td>Payed and played from '04 to '11 then i lost i...</td>\n",
       "      <td>1</td>\n",
       "    </tr>\n",
       "    <tr>\n",
       "      <th>17473</th>\n",
       "      <td>25519</td>\n",
       "      <td>EverQuest II</td>\n",
       "      <td>2015.0</td>\n",
       "      <td>A beautiful game world to explore. I have been...</td>\n",
       "      <td>1</td>\n",
       "    </tr>\n",
       "    <tr>\n",
       "      <th>17474</th>\n",
       "      <td>25520</td>\n",
       "      <td>EverQuest II</td>\n",
       "      <td>2015.0</td>\n",
       "      <td>The game has a large amount of content. Also i...</td>\n",
       "      <td>1</td>\n",
       "    </tr>\n",
       "    <tr>\n",
       "      <th>17475</th>\n",
       "      <td>25521</td>\n",
       "      <td>EverQuest II</td>\n",
       "      <td>2014.0</td>\n",
       "      <td>Of all the MMOs out there like WoW and even or...</td>\n",
       "      <td>1</td>\n",
       "    </tr>\n",
       "    <tr>\n",
       "      <th>17476</th>\n",
       "      <td>25522</td>\n",
       "      <td>EverQuest II</td>\n",
       "      <td>2013.0</td>\n",
       "      <td>This game is absolutely amazing. Sequel to Eve...</td>\n",
       "      <td>1</td>\n",
       "    </tr>\n",
       "    <tr>\n",
       "      <th>17477</th>\n",
       "      <td>25523</td>\n",
       "      <td>EverQuest II</td>\n",
       "      <td>2016.0</td>\n",
       "      <td>Product received for freeYou shoudnt judge the...</td>\n",
       "      <td>1</td>\n",
       "    </tr>\n",
       "    <tr>\n",
       "      <th>17478</th>\n",
       "      <td>25524</td>\n",
       "      <td>EverQuest II</td>\n",
       "      <td>2013.0</td>\n",
       "      <td>As an original contract visual artist for EQ2,...</td>\n",
       "      <td>1</td>\n",
       "    </tr>\n",
       "    <tr>\n",
       "      <th>17479</th>\n",
       "      <td>25525</td>\n",
       "      <td>EverQuest II</td>\n",
       "      <td>2016.0</td>\n",
       "      <td>This game for me is the best MMORPG game ever ...</td>\n",
       "      <td>1</td>\n",
       "    </tr>\n",
       "    <tr>\n",
       "      <th>17480</th>\n",
       "      <td>25526</td>\n",
       "      <td>EverQuest II</td>\n",
       "      <td>2013.0</td>\n",
       "      <td>One of the greatest MMORPGs of all time. Their...</td>\n",
       "      <td>1</td>\n",
       "    </tr>\n",
       "    <tr>\n",
       "      <th>17481</th>\n",
       "      <td>25527</td>\n",
       "      <td>EverQuest II</td>\n",
       "      <td>2014.0</td>\n",
       "      <td>Ah Everquest, we meet again. This ♥♥♥♥ing nost...</td>\n",
       "      <td>1</td>\n",
       "    </tr>\n",
       "    <tr>\n",
       "      <th>17482</th>\n",
       "      <td>25528</td>\n",
       "      <td>EverQuest II</td>\n",
       "      <td>2012.0</td>\n",
       "      <td>This is why steam needs a neutral review optio...</td>\n",
       "      <td>1</td>\n",
       "    </tr>\n",
       "    <tr>\n",
       "      <th>17483</th>\n",
       "      <td>25529</td>\n",
       "      <td>EverQuest II</td>\n",
       "      <td>2015.0</td>\n",
       "      <td>NOTE: This is an updated review. I had taken d...</td>\n",
       "      <td>1</td>\n",
       "    </tr>\n",
       "    <tr>\n",
       "      <th>17484</th>\n",
       "      <td>25530</td>\n",
       "      <td>EverQuest II</td>\n",
       "      <td>2017.0</td>\n",
       "      <td>Everquest 2 always was an amazing game. It hit...</td>\n",
       "      <td>1</td>\n",
       "    </tr>\n",
       "    <tr>\n",
       "      <th>17485</th>\n",
       "      <td>25531</td>\n",
       "      <td>EverQuest II</td>\n",
       "      <td>2017.0</td>\n",
       "      <td>I would vote this better than World of Warcraf...</td>\n",
       "      <td>1</td>\n",
       "    </tr>\n",
       "    <tr>\n",
       "      <th>17486</th>\n",
       "      <td>25532</td>\n",
       "      <td>EverQuest II</td>\n",
       "      <td>2017.0</td>\n",
       "      <td>I have always loved this game! I love the idea...</td>\n",
       "      <td>1</td>\n",
       "    </tr>\n",
       "    <tr>\n",
       "      <th>17487</th>\n",
       "      <td>25533</td>\n",
       "      <td>EverQuest II</td>\n",
       "      <td>2013.0</td>\n",
       "      <td>After I had played it extensively for four yea...</td>\n",
       "      <td>1</td>\n",
       "    </tr>\n",
       "    <tr>\n",
       "      <th>17488</th>\n",
       "      <td>25534</td>\n",
       "      <td>EverQuest II</td>\n",
       "      <td>2017.0</td>\n",
       "      <td>this was the first MMORPG i've ever played but...</td>\n",
       "      <td>0</td>\n",
       "    </tr>\n",
       "    <tr>\n",
       "      <th>17489</th>\n",
       "      <td>25535</td>\n",
       "      <td>EverQuest II</td>\n",
       "      <td>2012.0</td>\n",
       "      <td>Arguably the single greatest mmorp that exists...</td>\n",
       "      <td>1</td>\n",
       "    </tr>\n",
       "    <tr>\n",
       "      <th>17490</th>\n",
       "      <td>25536</td>\n",
       "      <td>EverQuest II</td>\n",
       "      <td>2017.0</td>\n",
       "      <td>An older game, to be sure, but has its own cha...</td>\n",
       "      <td>1</td>\n",
       "    </tr>\n",
       "    <tr>\n",
       "      <th>17491</th>\n",
       "      <td>25537</td>\n",
       "      <td>EverQuest II</td>\n",
       "      <td>2011.0</td>\n",
       "      <td>When I frist started playing Everquest 2 it wa...</td>\n",
       "      <td>1</td>\n",
       "    </tr>\n",
       "    <tr>\n",
       "      <th>17492</th>\n",
       "      <td>25538</td>\n",
       "      <td>EverQuest II</td>\n",
       "      <td>NaN</td>\n",
       "      <td>cool game. THe only thing that REALLY PISSES M...</td>\n",
       "      <td>1</td>\n",
       "    </tr>\n",
       "    <tr>\n",
       "      <th>17493</th>\n",
       "      <td>25539</td>\n",
       "      <td>EverQuest II</td>\n",
       "      <td>NaN</td>\n",
       "      <td>this game since I was a little kid, always hav...</td>\n",
       "      <td>1</td>\n",
       "    </tr>\n",
       "  </tbody>\n",
       "</table>\n",
       "<p>17494 rows × 5 columns</p>\n",
       "</div>"
      ],
      "text/plain": [
       "       review_id                        title    year  \\\n",
       "0              1  Spooky's Jump Scare Mansion  2016.0   \n",
       "1              2  Spooky's Jump Scare Mansion  2016.0   \n",
       "2              3  Spooky's Jump Scare Mansion  2016.0   \n",
       "3              4  Spooky's Jump Scare Mansion  2015.0   \n",
       "4              5  Spooky's Jump Scare Mansion  2015.0   \n",
       "5              6  Spooky's Jump Scare Mansion  2015.0   \n",
       "6              7  Spooky's Jump Scare Mansion  2017.0   \n",
       "7              8  Spooky's Jump Scare Mansion  2015.0   \n",
       "8              9  Spooky's Jump Scare Mansion  2015.0   \n",
       "9             10  Spooky's Jump Scare Mansion  2015.0   \n",
       "10            11  Spooky's Jump Scare Mansion  2015.0   \n",
       "11            12  Spooky's Jump Scare Mansion  2015.0   \n",
       "12            13  Spooky's Jump Scare Mansion  2015.0   \n",
       "13            14  Spooky's Jump Scare Mansion  2015.0   \n",
       "14            15  Spooky's Jump Scare Mansion  2015.0   \n",
       "15            16  Spooky's Jump Scare Mansion  2016.0   \n",
       "16            17  Spooky's Jump Scare Mansion  2015.0   \n",
       "17            18  Spooky's Jump Scare Mansion  2015.0   \n",
       "18            19  Spooky's Jump Scare Mansion  2015.0   \n",
       "19            20  Spooky's Jump Scare Mansion  2015.0   \n",
       "20            21  Spooky's Jump Scare Mansion  2015.0   \n",
       "21            22  Spooky's Jump Scare Mansion  2016.0   \n",
       "22            23  Spooky's Jump Scare Mansion  2015.0   \n",
       "23            24  Spooky's Jump Scare Mansion  2015.0   \n",
       "24            25  Spooky's Jump Scare Mansion  2015.0   \n",
       "25            26  Spooky's Jump Scare Mansion  2015.0   \n",
       "26            27  Spooky's Jump Scare Mansion  2015.0   \n",
       "27            28  Spooky's Jump Scare Mansion  2015.0   \n",
       "28            29  Spooky's Jump Scare Mansion  2015.0   \n",
       "29            30  Spooky's Jump Scare Mansion  2016.0   \n",
       "...          ...                          ...     ...   \n",
       "17464      25510                 EverQuest II  2014.0   \n",
       "17465      25511                 EverQuest II  2014.0   \n",
       "17466      25512                 EverQuest II  2012.0   \n",
       "17467      25513                 EverQuest II  2011.0   \n",
       "17468      25514                 EverQuest II  2013.0   \n",
       "17469      25515                 EverQuest II  2013.0   \n",
       "17470      25516                 EverQuest II  2016.0   \n",
       "17471      25517                 EverQuest II  2014.0   \n",
       "17472      25518                 EverQuest II  2012.0   \n",
       "17473      25519                 EverQuest II  2015.0   \n",
       "17474      25520                 EverQuest II  2015.0   \n",
       "17475      25521                 EverQuest II  2014.0   \n",
       "17476      25522                 EverQuest II  2013.0   \n",
       "17477      25523                 EverQuest II  2016.0   \n",
       "17478      25524                 EverQuest II  2013.0   \n",
       "17479      25525                 EverQuest II  2016.0   \n",
       "17480      25526                 EverQuest II  2013.0   \n",
       "17481      25527                 EverQuest II  2014.0   \n",
       "17482      25528                 EverQuest II  2012.0   \n",
       "17483      25529                 EverQuest II  2015.0   \n",
       "17484      25530                 EverQuest II  2017.0   \n",
       "17485      25531                 EverQuest II  2017.0   \n",
       "17486      25532                 EverQuest II  2017.0   \n",
       "17487      25533                 EverQuest II  2013.0   \n",
       "17488      25534                 EverQuest II  2017.0   \n",
       "17489      25535                 EverQuest II  2012.0   \n",
       "17490      25536                 EverQuest II  2017.0   \n",
       "17491      25537                 EverQuest II  2011.0   \n",
       "17492      25538                 EverQuest II     NaN   \n",
       "17493      25539                 EverQuest II     NaN   \n",
       "\n",
       "                                             user_review  user_suggestion  \n",
       "0      I'm scared and hearing creepy voices.  So I'll...                1  \n",
       "1      Best game, more better than Sam Pepper's YouTu...                1  \n",
       "2      A littly iffy on the controls, but once you kn...                1  \n",
       "3      Great game, fun and colorful and all that.A si...                1  \n",
       "4      Not many games have the cute tag right next to...                1  \n",
       "5      Early Access ReviewIt's pretty cute at first, ...                1  \n",
       "6      Great game. it's a cute little horror game tha...                1  \n",
       "7      Spooky's Jump Scare Mansion is a Free Retro ma...                1  \n",
       "8      Somewhere between light hearted, happy parody ...                0  \n",
       "9      This game with its cute little out of the wall...                1  \n",
       "10     Early Access ReviewI thought this game would b...                1  \n",
       "11     Early Access ReviewGreen ghosty goo thing chas...                1  \n",
       "12     Early Access ReviewRooms 1-20 were cute and ad...                1  \n",
       "13     Early Access ReviewGreat game.  It always has ...                1  \n",
       "14     The name says it all, but don't get fooled by ...                1  \n",
       "15     Never would have thought something so adorably...                1  \n",
       "16     First, get hugged by cardboard cut outs, then ...                1  \n",
       "17     It's exactly what you think it is. Progress th...                1  \n",
       "18     This game is awesome! It may seem cute and not...                1  \n",
       "19     Just played this game for about an hour and it...                1  \n",
       "20     This game may seem cute, adorble and innocent ...                1  \n",
       "21     Those puppets, man! They freak me out! Can't g...                1  \n",
       "22     Early Access ReviewThis Game is a bit simple b...                1  \n",
       "23     One of the best horror games imo. It's free, i...                1  \n",
       "24     Cute and Horror do not really mesh well in so ...                1  \n",
       "25     great game for your kids!when your childerent ...                1  \n",
       "26     Early Access ReviewAn interesting and quirky e...                1  \n",
       "27     Starts off rather harmless and cute, and very ...                1  \n",
       "28     Good, but you need much more than the minimum ...                1  \n",
       "29     At first everything seems alright, just gotta ...                1  \n",
       "...                                                  ...              ...  \n",
       "17464  I played this at launch and many times off and...                1  \n",
       "17465  The Everquest Franchise has always been a grea...                1  \n",
       "17466  I've put quite a bit of time into this game ov...                1  \n",
       "17467  An acceptable way to spend your time if you're...                1  \n",
       "17468  Satisfying combat, fun progression, best in in...                1  \n",
       "17469  Truely endless adventure, epic battles, sweet ...                1  \n",
       "17470  I enjoy this game, but I do have an issue with...                1  \n",
       "17471  The good World of Warcraft.  better than most ...                1  \n",
       "17472  Payed and played from '04 to '11 then i lost i...                1  \n",
       "17473  A beautiful game world to explore. I have been...                1  \n",
       "17474  The game has a large amount of content. Also i...                1  \n",
       "17475  Of all the MMOs out there like WoW and even or...                1  \n",
       "17476  This game is absolutely amazing. Sequel to Eve...                1  \n",
       "17477  Product received for freeYou shoudnt judge the...                1  \n",
       "17478  As an original contract visual artist for EQ2,...                1  \n",
       "17479  This game for me is the best MMORPG game ever ...                1  \n",
       "17480  One of the greatest MMORPGs of all time. Their...                1  \n",
       "17481  Ah Everquest, we meet again. This ♥♥♥♥ing nost...                1  \n",
       "17482  This is why steam needs a neutral review optio...                1  \n",
       "17483  NOTE: This is an updated review. I had taken d...                1  \n",
       "17484  Everquest 2 always was an amazing game. It hit...                1  \n",
       "17485  I would vote this better than World of Warcraf...                1  \n",
       "17486  I have always loved this game! I love the idea...                1  \n",
       "17487  After I had played it extensively for four yea...                1  \n",
       "17488  this was the first MMORPG i've ever played but...                0  \n",
       "17489  Arguably the single greatest mmorp that exists...                1  \n",
       "17490  An older game, to be sure, but has its own cha...                1  \n",
       "17491  When I frist started playing Everquest 2 it wa...                1  \n",
       "17492  cool game. THe only thing that REALLY PISSES M...                1  \n",
       "17493  this game since I was a little kid, always hav...                1  \n",
       "\n",
       "[17494 rows x 5 columns]"
      ]
     },
     "execution_count": 76,
     "metadata": {},
     "output_type": "execute_result"
    }
   ],
   "source": [
    "train"
   ]
  },
  {
   "cell_type": "code",
   "execution_count": 30,
   "metadata": {},
   "outputs": [
    {
     "data": {
      "text/html": [
       "<div>\n",
       "<style scoped>\n",
       "    .dataframe tbody tr th:only-of-type {\n",
       "        vertical-align: middle;\n",
       "    }\n",
       "\n",
       "    .dataframe tbody tr th {\n",
       "        vertical-align: top;\n",
       "    }\n",
       "\n",
       "    .dataframe thead th {\n",
       "        text-align: right;\n",
       "    }\n",
       "</style>\n",
       "<table border=\"1\" class=\"dataframe\">\n",
       "  <thead>\n",
       "    <tr style=\"text-align: right;\">\n",
       "      <th></th>\n",
       "      <th>title</th>\n",
       "      <th>developer</th>\n",
       "      <th>publisher</th>\n",
       "      <th>tags</th>\n",
       "      <th>overview</th>\n",
       "    </tr>\n",
       "  </thead>\n",
       "  <tbody>\n",
       "    <tr>\n",
       "      <th>0</th>\n",
       "      <td>Spooky's Jump Scare Mansion</td>\n",
       "      <td>Lag Studios</td>\n",
       "      <td>Lag Studios</td>\n",
       "      <td>['Horror', 'Free to Play', 'Cute', 'First-Pers...</td>\n",
       "      <td>Can you survive 1000 rooms of cute terror? Or ...</td>\n",
       "    </tr>\n",
       "    <tr>\n",
       "      <th>1</th>\n",
       "      <td>Sakura Clicker</td>\n",
       "      <td>Winged Cloud</td>\n",
       "      <td>Winged Cloud</td>\n",
       "      <td>['Nudity', 'Anime', 'Free to Play', 'Mature', ...</td>\n",
       "      <td>The latest entry in the Sakura series is more ...</td>\n",
       "    </tr>\n",
       "  </tbody>\n",
       "</table>\n",
       "</div>"
      ],
      "text/plain": [
       "                         title      developer      publisher  \\\n",
       "0  Spooky's Jump Scare Mansion   Lag Studios    Lag Studios    \n",
       "1               Sakura Clicker  Winged Cloud   Winged Cloud    \n",
       "\n",
       "                                                tags  \\\n",
       "0  ['Horror', 'Free to Play', 'Cute', 'First-Pers...   \n",
       "1  ['Nudity', 'Anime', 'Free to Play', 'Mature', ...   \n",
       "\n",
       "                                            overview  \n",
       "0  Can you survive 1000 rooms of cute terror? Or ...  \n",
       "1  The latest entry in the Sakura series is more ...  "
      ]
     },
     "execution_count": 30,
     "metadata": {},
     "output_type": "execute_result"
    }
   ],
   "source": [
    "overview.head(2)"
   ]
  },
  {
   "cell_type": "code",
   "execution_count": 36,
   "metadata": {},
   "outputs": [],
   "source": [
    "def create_corpus(df,label):\n",
    "    corpus=[]\n",
    "    for review in df[df[\"user_suggestion\"]==label][\"user_review\"].str.split():\n",
    "        for word in review:\n",
    "            corpus.append(word)\n",
    "    return corpus"
   ]
  },
  {
   "cell_type": "code",
   "execution_count": 45,
   "metadata": {},
   "outputs": [
    {
     "data": {
      "text/plain": [
       "[('the', 46071),\n",
       " ('to', 36185),\n",
       " ('and', 36098),\n",
       " ('a', 32801),\n",
       " ('of', 23494),\n",
       " ('is', 23007),\n",
       " ('you', 22211),\n",
       " ('game', 19875),\n",
       " ('I', 17262),\n",
       " ('it', 14571),\n",
       " ('this', 13787),\n",
       " ('in', 13662),\n",
       " ('for', 12986),\n",
       " ('that', 12121),\n",
       " ('with', 9945),\n",
       " ('are', 9651),\n",
       " ('but', 9176),\n",
       " ('have', 8683),\n",
       " ('can', 8177),\n",
       " ('on', 7774)]"
      ]
     },
     "execution_count": 45,
     "metadata": {},
     "output_type": "execute_result"
    }
   ],
   "source": [
    "yes_corpus = create_corpus(train,1)\n",
    "\n",
    "yes_count = Counter(yes_corpus)\n",
    "yes_count.most_common(20)"
   ]
  },
  {
   "cell_type": "code",
   "execution_count": 46,
   "metadata": {},
   "outputs": [
    {
     "data": {
      "text/plain": [
       "[('the', 40987),\n",
       " ('to', 32452),\n",
       " ('and', 26561),\n",
       " ('a', 24652),\n",
       " ('you', 18001),\n",
       " ('of', 17970),\n",
       " ('game', 16771),\n",
       " ('is', 16217),\n",
       " ('I', 14417),\n",
       " ('it', 12288),\n",
       " ('this', 11964),\n",
       " ('in', 11119),\n",
       " ('that', 10819),\n",
       " ('for', 10708),\n",
       " ('with', 8028),\n",
       " ('have', 7826),\n",
       " ('but', 7557),\n",
       " ('are', 7183),\n",
       " ('on', 6398),\n",
       " ('not', 5948)]"
      ]
     },
     "execution_count": 46,
     "metadata": {},
     "output_type": "execute_result"
    }
   ],
   "source": [
    "no_corpus = create_corpus(train,0)\n",
    "\n",
    "no_count = Counter(no_corpus)\n",
    "no_count.most_common(20)"
   ]
  },
  {
   "cell_type": "code",
   "execution_count": 54,
   "metadata": {},
   "outputs": [],
   "source": [
    "yes_words = []\n",
    "for word in yes_corpus:\n",
    "    if word in stop:\n",
    "        pass\n",
    "    else:\n",
    "        yes_words.append(word)"
   ]
  },
  {
   "cell_type": "code",
   "execution_count": 55,
   "metadata": {},
   "outputs": [],
   "source": [
    "no_words = []\n",
    "for word in no_corpus:\n",
    "    if word in stop:\n",
    "        pass\n",
    "    else:\n",
    "        no_words.append(word)"
   ]
  },
  {
   "cell_type": "code",
   "execution_count": 58,
   "metadata": {},
   "outputs": [
    {
     "data": {
      "text/plain": [
       "[('game', 19875),\n",
       " ('I', 17262),\n",
       " ('like', 6616),\n",
       " ('get', 5475),\n",
       " ('play', 5134),\n",
       " ('The', 5092),\n",
       " ('Access', 3445),\n",
       " ('Early', 3425),\n",
       " ('really', 3366),\n",
       " ('good', 3354),\n",
       " ('game.', 3226),\n",
       " ('one', 3132),\n",
       " ('fun', 2906),\n",
       " ('time', 2663),\n",
       " ('game,', 2586),\n",
       " ('would', 2541),\n",
       " ('This', 2464),\n",
       " ('playing', 2461),\n",
       " ('even', 2336),\n",
       " ('much', 2314)]"
      ]
     },
     "execution_count": 58,
     "metadata": {},
     "output_type": "execute_result"
    }
   ],
   "source": [
    "yes_count = Counter(yes_words)\n",
    "yes_count.most_common(20)"
   ]
  },
  {
   "cell_type": "code",
   "execution_count": 59,
   "metadata": {},
   "outputs": [
    {
     "data": {
      "text/plain": [
       "[('game', 16771),\n",
       " ('I', 14417),\n",
       " ('get', 5332),\n",
       " ('like', 4391),\n",
       " ('play', 4056),\n",
       " ('The', 3562),\n",
       " ('even', 3275),\n",
       " ('Access', 2636),\n",
       " ('one', 2502),\n",
       " ('Early', 2501),\n",
       " ('time', 2497),\n",
       " ('game.', 2427),\n",
       " ('good', 2275),\n",
       " ('would', 2207),\n",
       " ('really', 2142),\n",
       " ('game,', 2073),\n",
       " ('new', 2046),\n",
       " ('money', 2041),\n",
       " ('make', 1902),\n",
       " ('want', 1863)]"
      ]
     },
     "execution_count": 59,
     "metadata": {},
     "output_type": "execute_result"
    }
   ],
   "source": [
    "no_count = Counter(no_words)\n",
    "no_count.most_common(20)"
   ]
  },
  {
   "cell_type": "code",
   "execution_count": 81,
   "metadata": {},
   "outputs": [],
   "source": [
    "def get_top_review_bigrams(corpus, n=None):\n",
    "    vec = CountVectorizer(ngram_range=(2,2 )).fit(corpus)\n",
    "    bag_of_words = vec.transform(corpus)\n",
    "    sum_words = bag_of_words.sum(axis=0) \n",
    "    words_freq = [(word, sum_words[0, idx]) for word, idx in vec.vocabulary_.items()]\n",
    "    words_freq =sorted(words_freq, key = lambda x: x[1], reverse=True)\n",
    "    return words_freq[:n]"
   ]
  },
  {
   "cell_type": "code",
   "execution_count": 82,
   "metadata": {},
   "outputs": [
    {
     "data": {
      "text/plain": [
       "[('nope nope', 1599),\n",
       " ('you re', 1226),\n",
       " ('you ll', 707),\n",
       " ('10 10', 476),\n",
       " ('in game', 341),\n",
       " ('you ve', 245),\n",
       " ('they re', 242),\n",
       " ('to play', 222),\n",
       " ('free to', 219),\n",
       " ('medic medic', 169)]"
      ]
     },
     "execution_count": 82,
     "metadata": {},
     "output_type": "execute_result"
    }
   ],
   "source": [
    "get_top_review_bigrams(yes_corpus,10)"
   ]
  },
  {
   "cell_type": "code",
   "execution_count": 83,
   "metadata": {},
   "outputs": [
    {
     "data": {
      "text/plain": [
       "[('you re', 969),\n",
       " ('you ll', 484),\n",
       " ('they re', 242),\n",
       " ('in game', 203),\n",
       " ('you ve', 160),\n",
       " ('pay to', 157),\n",
       " ('to win', 124),\n",
       " ('they ve', 123),\n",
       " ('to play', 103),\n",
       " ('hi rez', 100)]"
      ]
     },
     "execution_count": 83,
     "metadata": {},
     "output_type": "execute_result"
    }
   ],
   "source": [
    "get_top_review_bigrams(no_corpus,10)"
   ]
  },
  {
   "cell_type": "code",
   "execution_count": 87,
   "metadata": {},
   "outputs": [],
   "source": [
    "#preprocessing\\\n",
    "#remove URl\n",
    "def remove_url(text):\n",
    "    url = re.compile(r\"https?://\\S+|www\\.\\S+\")\n",
    "    return url.sub(r\"\",text)"
   ]
  },
  {
   "cell_type": "code",
   "execution_count": 94,
   "metadata": {},
   "outputs": [
    {
     "name": "stdout",
     "output_type": "stream",
     "text": [
      "I am a king\n"
     ]
    }
   ],
   "source": [
    "def remove_punct(text):\n",
    "    table=str.maketrans('','',string.punctuation)\n",
    "    return text.translate(table)\n",
    "\n",
    "example=\"I am a #king\"\n",
    "print(remove_punct(example))"
   ]
  },
  {
   "cell_type": "code",
   "execution_count": 123,
   "metadata": {},
   "outputs": [
    {
     "data": {
      "text/html": [
       "<div>\n",
       "<style scoped>\n",
       "    .dataframe tbody tr th:only-of-type {\n",
       "        vertical-align: middle;\n",
       "    }\n",
       "\n",
       "    .dataframe tbody tr th {\n",
       "        vertical-align: top;\n",
       "    }\n",
       "\n",
       "    .dataframe thead th {\n",
       "        text-align: right;\n",
       "    }\n",
       "</style>\n",
       "<table border=\"1\" class=\"dataframe\">\n",
       "  <thead>\n",
       "    <tr style=\"text-align: right;\">\n",
       "      <th></th>\n",
       "      <th>review_id</th>\n",
       "      <th>title</th>\n",
       "      <th>year</th>\n",
       "      <th>user_review</th>\n",
       "    </tr>\n",
       "  </thead>\n",
       "  <tbody>\n",
       "    <tr>\n",
       "      <th>0</th>\n",
       "      <td>1603</td>\n",
       "      <td>Counter-Strike: Global Offensive</td>\n",
       "      <td>2015.0</td>\n",
       "      <td>Nice graphics, new maps, weapons and models. B...</td>\n",
       "    </tr>\n",
       "    <tr>\n",
       "      <th>1</th>\n",
       "      <td>1604</td>\n",
       "      <td>Counter-Strike: Global Offensive</td>\n",
       "      <td>2018.0</td>\n",
       "      <td>I would not recommend getting into this at its...</td>\n",
       "    </tr>\n",
       "  </tbody>\n",
       "</table>\n",
       "</div>"
      ],
      "text/plain": [
       "   review_id                             title    year  \\\n",
       "0       1603  Counter-Strike: Global Offensive  2015.0   \n",
       "1       1604  Counter-Strike: Global Offensive  2018.0   \n",
       "\n",
       "                                         user_review  \n",
       "0  Nice graphics, new maps, weapons and models. B...  \n",
       "1  I would not recommend getting into this at its...  "
      ]
     },
     "execution_count": 123,
     "metadata": {},
     "output_type": "execute_result"
    }
   ],
   "source": [
    "test.head(2)"
   ]
  },
  {
   "cell_type": "code",
   "execution_count": 127,
   "metadata": {},
   "outputs": [
    {
     "name": "stderr",
     "output_type": "stream",
     "text": [
      "C:\\Users\\rautc\\AppData\\Roaming\\Python\\Python37\\site-packages\\ipykernel_launcher.py:1: FutureWarning: Sorting because non-concatenation axis is not aligned. A future version\n",
      "of pandas will change to not sort by default.\n",
      "\n",
      "To accept the future behavior, pass 'sort=False'.\n",
      "\n",
      "To retain the current behavior and silence the warning, pass 'sort=True'.\n",
      "\n",
      "  \"\"\"Entry point for launching an IPython kernel.\n"
     ]
    },
    {
     "data": {
      "text/plain": [
       "(25539, 5)"
      ]
     },
     "execution_count": 127,
     "metadata": {},
     "output_type": "execute_result"
    }
   ],
   "source": [
    "df=pd.concat([train,test])\n",
    "df.shape"
   ]
  },
  {
   "cell_type": "code",
   "execution_count": 128,
   "metadata": {},
   "outputs": [],
   "source": [
    "df['user_reivew']=df['user_review'].apply(lambda x : remove_url(x))\n",
    "df['user_reivew']=df['user_review'].apply(lambda x : remove_punct(x))"
   ]
  },
  {
   "cell_type": "code",
   "execution_count": 129,
   "metadata": {},
   "outputs": [],
   "source": [
    "def create_corpora(df):\n",
    "    corpus=[]\n",
    "    for tweet in tqdm(df['user_review']):\n",
    "        words=[word.lower() for word in word_tokenize(tweet) if((word.isalpha()==1) & (word not in stop))]\n",
    "        corpus.append(words)\n",
    "    return corpus\n"
   ]
  },
  {
   "cell_type": "code",
   "execution_count": 130,
   "metadata": {},
   "outputs": [
    {
     "name": "stderr",
     "output_type": "stream",
     "text": [
      "100%|███████████████████████████████████████████████████████████████████████████| 25539/25539 [00:35<00:00, 710.67it/s]\n"
     ]
    }
   ],
   "source": [
    "corpus = create_corpora(df)"
   ]
  },
  {
   "cell_type": "code",
   "execution_count": 131,
   "metadata": {},
   "outputs": [],
   "source": [
    "embedding_dict={}\n",
    "with open('glove.6B.100d.txt','r',encoding='utf-8') as f:\n",
    "    for line in f:\n",
    "        values=line.split()\n",
    "        word=values[0]\n",
    "        vectors=np.asarray(values[1:],'float32')\n",
    "        embedding_dict[word]=vectors\n",
    "f.close()"
   ]
  },
  {
   "cell_type": "code",
   "execution_count": 132,
   "metadata": {},
   "outputs": [],
   "source": [
    "MAX_LEN=50\n",
    "tokenizer_obj=Tokenizer()\n",
    "tokenizer_obj.fit_on_texts(corpus)\n",
    "sequences=tokenizer_obj.texts_to_sequences(corpus)\n",
    "\n",
    "review_pad=pad_sequences(sequences,maxlen=MAX_LEN,truncating='post',padding='post')"
   ]
  },
  {
   "cell_type": "code",
   "execution_count": 133,
   "metadata": {},
   "outputs": [
    {
     "name": "stdout",
     "output_type": "stream",
     "text": [
      "Number of unique words: 60042\n"
     ]
    }
   ],
   "source": [
    "word_index=tokenizer_obj.word_index\n",
    "print('Number of unique words:',len(word_index))"
   ]
  },
  {
   "cell_type": "code",
   "execution_count": 134,
   "metadata": {},
   "outputs": [
    {
     "name": "stderr",
     "output_type": "stream",
     "text": [
      "100%|████████████████████████████████████████████████████████████████████████| 60042/60042 [00:00<00:00, 383459.59it/s]\n"
     ]
    }
   ],
   "source": [
    "num_words=len(word_index)+1\n",
    "embedding_matrix=np.zeros((num_words,100))\n",
    "\n",
    "for word,i in tqdm(word_index.items()):\n",
    "    if i > num_words:\n",
    "        continue\n",
    "    \n",
    "    emb_vec=embedding_dict.get(word)\n",
    "    if emb_vec is not None:\n",
    "        embedding_matrix[i]=emb_vec"
   ]
  },
  {
   "cell_type": "code",
   "execution_count": 135,
   "metadata": {},
   "outputs": [],
   "source": [
    "model=Sequential()\n",
    "\n",
    "embedding=Embedding(num_words,100,embeddings_initializer=Constant(embedding_matrix),\n",
    "                   input_length=MAX_LEN,trainable=False)\n",
    "\n",
    "model.add(embedding)\n",
    "model.add(SpatialDropout1D(0.2))\n",
    "model.add(LSTM(64, dropout=0.2, recurrent_dropout=0.2))\n",
    "model.add(Dense(1, activation='sigmoid'))\n",
    "\n",
    "\n",
    "optimzer=Adam(learning_rate=1e-5)\n",
    "\n",
    "model.compile(loss='binary_crossentropy',optimizer=optimzer,metrics=['accuracy'])"
   ]
  },
  {
   "cell_type": "code",
   "execution_count": 136,
   "metadata": {},
   "outputs": [
    {
     "name": "stdout",
     "output_type": "stream",
     "text": [
      "Model: \"sequential_2\"\n",
      "_________________________________________________________________\n",
      "Layer (type)                 Output Shape              Param #   \n",
      "=================================================================\n",
      "embedding_2 (Embedding)      (None, 50, 100)           6004300   \n",
      "_________________________________________________________________\n",
      "spatial_dropout1d_2 (Spatial (None, 50, 100)           0         \n",
      "_________________________________________________________________\n",
      "lstm_2 (LSTM)                (None, 64)                42240     \n",
      "_________________________________________________________________\n",
      "dense_2 (Dense)              (None, 1)                 65        \n",
      "=================================================================\n",
      "Total params: 6,046,605\n",
      "Trainable params: 42,305\n",
      "Non-trainable params: 6,004,300\n",
      "_________________________________________________________________\n"
     ]
    }
   ],
   "source": [
    "model.summary()"
   ]
  },
  {
   "cell_type": "code",
   "execution_count": 137,
   "metadata": {},
   "outputs": [
    {
     "data": {
      "text/plain": [
       "17494"
      ]
     },
     "execution_count": 137,
     "metadata": {},
     "output_type": "execute_result"
    }
   ],
   "source": [
    "train.shape[0]"
   ]
  },
  {
   "cell_type": "code",
   "execution_count": 138,
   "metadata": {},
   "outputs": [],
   "source": [
    "train_final = review_pad[:train.shape[0]]\n",
    "test_final = review_pad[train.shape[0]:]"
   ]
  },
  {
   "cell_type": "code",
   "execution_count": 139,
   "metadata": {},
   "outputs": [
    {
     "name": "stdout",
     "output_type": "stream",
     "text": [
      "Shape of train (14869, 50)\n",
      "Shape of Validation  (2625, 50)\n"
     ]
    }
   ],
   "source": [
    "X_train,X_test,y_train,y_test=train_test_split(train_final,train['user_suggestion'].values,test_size=0.15)\n",
    "print('Shape of train',X_train.shape)\n",
    "print(\"Shape of Validation \",X_test.shape)"
   ]
  },
  {
   "cell_type": "code",
   "execution_count": 140,
   "metadata": {},
   "outputs": [
    {
     "name": "stdout",
     "output_type": "stream",
     "text": [
      "Train on 14869 samples, validate on 2625 samples\n",
      "Epoch 1/15\n",
      " - 67s - loss: 0.6918 - accuracy: 0.5531 - val_loss: 0.6834 - val_accuracy: 0.5771\n",
      "Epoch 2/15\n",
      " - 68s - loss: 0.6851 - accuracy: 0.5675 - val_loss: 0.6790 - val_accuracy: 0.5798\n",
      "Epoch 3/15\n",
      " - 77s - loss: 0.6825 - accuracy: 0.5676 - val_loss: 0.6748 - val_accuracy: 0.5825\n",
      "Epoch 4/15\n",
      " - 71s - loss: 0.6760 - accuracy: 0.5787 - val_loss: 0.6695 - val_accuracy: 0.5882\n",
      "Epoch 5/15\n",
      " - 73s - loss: 0.6710 - accuracy: 0.5877 - val_loss: 0.6601 - val_accuracy: 0.5985\n",
      "Epoch 6/15\n",
      " - 70s - loss: 0.6646 - accuracy: 0.5947 - val_loss: 0.6420 - val_accuracy: 0.6236\n",
      "Epoch 7/15\n",
      " - 72s - loss: 0.6543 - accuracy: 0.6118 - val_loss: 0.6170 - val_accuracy: 0.6522\n",
      "Epoch 8/15\n",
      " - 69s - loss: 0.6438 - accuracy: 0.6273 - val_loss: 0.5982 - val_accuracy: 0.6800\n",
      "Epoch 9/15\n",
      " - 66s - loss: 0.6377 - accuracy: 0.6316 - val_loss: 0.5934 - val_accuracy: 0.6846\n",
      "Epoch 10/15\n",
      " - 66s - loss: 0.6336 - accuracy: 0.6414 - val_loss: 0.5831 - val_accuracy: 0.7006\n",
      "Epoch 11/15\n",
      " - 67s - loss: 0.6282 - accuracy: 0.6479 - val_loss: 0.5778 - val_accuracy: 0.7070\n",
      "Epoch 12/15\n",
      " - 67s - loss: 0.6273 - accuracy: 0.6522 - val_loss: 0.5756 - val_accuracy: 0.7093\n",
      "Epoch 13/15\n",
      " - 66s - loss: 0.6279 - accuracy: 0.6514 - val_loss: 0.5741 - val_accuracy: 0.7109\n",
      "Epoch 14/15\n",
      " - 65s - loss: 0.6157 - accuracy: 0.6656 - val_loss: 0.5702 - val_accuracy: 0.7170\n",
      "Epoch 15/15\n",
      " - 70s - loss: 0.6184 - accuracy: 0.6612 - val_loss: 0.5683 - val_accuracy: 0.7170\n"
     ]
    }
   ],
   "source": [
    "history=model.fit(X_train,y_train,batch_size=4,epochs=15,validation_data=(X_test,y_test),verbose=2)"
   ]
  },
  {
   "cell_type": "code",
   "execution_count": 141,
   "metadata": {},
   "outputs": [],
   "source": [
    "y_pre=model.predict(test_final)\n",
    "y_pre=np.round(y_pre).astype(int).reshape(8045)\n",
    "sub=pd.DataFrame({'review_id':test['review_id'].values.tolist(),'user_suggestion':y_pre})\n",
    "sub.to_csv('submission.csv',index=False)"
   ]
  },
  {
   "cell_type": "code",
   "execution_count": null,
   "metadata": {},
   "outputs": [],
   "source": []
  }
 ],
 "metadata": {
  "kernelspec": {
   "display_name": "Python 3",
   "language": "python",
   "name": "python3"
  },
  "language_info": {
   "codemirror_mode": {
    "name": "ipython",
    "version": 3
   },
   "file_extension": ".py",
   "mimetype": "text/x-python",
   "name": "python",
   "nbconvert_exporter": "python",
   "pygments_lexer": "ipython3",
   "version": "3.7.1"
  }
 },
 "nbformat": 4,
 "nbformat_minor": 4
}
